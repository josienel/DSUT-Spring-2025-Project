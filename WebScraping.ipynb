{
  "nbformat": 4,
  "nbformat_minor": 0,
  "metadata": {
    "colab": {
      "provenance": []
    },
    "kernelspec": {
      "name": "python3",
      "display_name": "Python 3"
    },
    "language_info": {
      "name": "python"
    }
  },
  "cells": [
    {
      "cell_type": "markdown",
      "source": [
        "Web Scraping from UTampa Course Catalog"
      ],
      "metadata": {
        "id": "TmHa71kX5jP-"
      }
    },
    {
      "cell_type": "code",
      "source": [
        "from bs4 import BeautifulSoup\n",
        "import requests"
      ],
      "metadata": {
        "id": "CGJQ9Dx-5gf5"
      },
      "execution_count": 1,
      "outputs": []
    },
    {
      "cell_type": "code",
      "source": [
        "url = 'https://ut.smartcatalogiq.com/current/catalog/undergraduate-catalog/college-of-social-sciences-mathematics-and-education/department-of-mathematics/data-science-major/'\n",
        "page = requests.get(url)\n",
        "soup = BeautifulSoup(page.text, 'html')\n"
      ],
      "metadata": {
        "id": "PJqAr-Il53UW"
      },
      "execution_count": 3,
      "outputs": []
    },
    {
      "cell_type": "code",
      "source": [
        "# find table on page - gives all MUST take courses\n",
        "table_core = soup.find_all('table')[0]\n",
        "table_core"
      ],
      "metadata": {
        "colab": {
          "base_uri": "https://localhost:8080/"
        },
        "id": "H3p_Xkqv6MMs",
        "outputId": "82fff478-5fb2-48ad-8a9e-045891a7f265"
      },
      "execution_count": 4,
      "outputs": [
        {
          "output_type": "execute_result",
          "data": {
            "text/plain": [
              "<table>\n",
              "<tr>\n",
              "<td class=\"sc-coursenumber sc-programtable-column-1\"><a class=\"sc-courselink\" href=\"/en/current/catalog/course-descriptions/csc-computer-science/100/csc-101\">CSC 101</a></td><td class=\"sc-coursetitle sc-programtable-column-2\">The Science of Computing I</td><td class=\"sc-credits sc-programtable-column-3\"><p class=\"credits\">4</p></td>\n",
              "</tr><tr>\n",
              "<td class=\"sc-coursenumber sc-programtable-column-1\"><a class=\"sc-courselink\" href=\"/en/current/catalog/course-descriptions/csc-computer-science/100/csc-102\">CSC 102</a></td><td class=\"sc-coursetitle sc-programtable-column-2\">The Science of Computing II</td><td class=\"sc-credits sc-programtable-column-3\"><p class=\"credits\">4</p></td>\n",
              "</tr><tr>\n",
              "<td class=\"sc-coursenumber sc-programtable-column-1\"><a class=\"sc-courselink\" href=\"/en/current/catalog/course-descriptions/csc-computer-science/200/csc-201\">CSC 201</a></td><td class=\"sc-coursetitle sc-programtable-column-2\">Data Structures and Algorithm Analysis</td><td class=\"sc-credits sc-programtable-column-3\"><p class=\"credits\">4</p></td>\n",
              "</tr><tr>\n",
              "<td class=\"sc-coursenumber sc-programtable-column-1\"><a class=\"sc-courselink\" href=\"/en/current/catalog/course-descriptions/dsc-data-science/100/dsc-101\">DSC 101</a></td><td class=\"sc-coursetitle sc-programtable-column-2\">Introduction to Data Science</td><td class=\"sc-credits sc-programtable-column-3\"><p class=\"credits\">4</p></td>\n",
              "</tr><tr>\n",
              "<td class=\"sc-coursenumber sc-programtable-column-1\"><a class=\"sc-courselink\" href=\"/en/current/catalog/course-descriptions/dsc-data-science/200/dsc-201\">DSC 201</a></td><td class=\"sc-coursetitle sc-programtable-column-2\">Applied Data Science</td><td class=\"sc-credits sc-programtable-column-3\"><p class=\"credits\">4</p></td>\n",
              "</tr><tr>\n",
              "<td class=\"sc-coursenumber sc-programtable-column-1\"><a class=\"sc-courselink\" href=\"/en/current/catalog/course-descriptions/dsc-data-science/400/dsc-401\">DSC 401</a></td><td class=\"sc-coursetitle sc-programtable-column-2\">Data Science Capstone</td><td class=\"sc-credits sc-programtable-column-3\"><p class=\"credits\">4</p></td>\n",
              "</tr><tr>\n",
              "<td class=\"sc-coursenumber sc-programtable-column-1\"><a class=\"sc-courselink\" href=\"/en/current/catalog/course-descriptions/mat-mathematics/200/mat-260\">MAT 260</a></td><td class=\"sc-coursetitle sc-programtable-column-2\">Calculus I</td><td class=\"sc-credits sc-programtable-column-3\"><p class=\"credits\">4</p></td>\n",
              "</tr><tr>\n",
              "<td class=\"sc-coursenumber sc-programtable-column-1\"><a class=\"sc-courselink\" href=\"/en/current/catalog/course-descriptions/mat-mathematics/200/mat-261\">MAT 261</a></td><td class=\"sc-coursetitle sc-programtable-column-2\">Calculus II</td><td class=\"sc-credits sc-programtable-column-3\"><p class=\"credits\">4</p></td>\n",
              "</tr><tr>\n",
              "<td class=\"sc-coursenumber sc-programtable-column-1\"><a class=\"sc-courselink\" href=\"/en/current/catalog/course-descriptions/mat-mathematics/200/mat-262\">MAT 262</a></td><td class=\"sc-coursetitle sc-programtable-column-2\">Calculus III</td><td class=\"sc-credits sc-programtable-column-3\"><p class=\"credits\">4</p></td>\n",
              "</tr><tr>\n",
              "<td class=\"sc-coursenumber sc-programtable-column-1\"><a class=\"sc-courselink\" href=\"/en/current/catalog/course-descriptions/mat-mathematics/200/mat-271\">MAT 271</a></td><td class=\"sc-coursetitle sc-programtable-column-2\">Computational Linear Algebra</td><td class=\"sc-credits sc-programtable-column-3\"><p class=\"credits\">4</p></td>\n",
              "</tr><tr>\n",
              "<td class=\"sc-coursenumber sc-programtable-column-1\"><a class=\"sc-courselink\" href=\"/en/current/catalog/course-descriptions/mat-mathematics/200/mat-272\">MAT 272</a></td><td class=\"sc-coursetitle sc-programtable-column-2\">Applied Statistics</td><td class=\"sc-credits sc-programtable-column-3\"><p class=\"credits\">4</p></td>\n",
              "</tr><tr>\n",
              "<td class=\"sc-coursenumber sc-programtable-column-1\"><a class=\"sc-courselink\" href=\"/en/current/catalog/course-descriptions/mat-mathematics/300/mat-310\">MAT 310</a></td><td class=\"sc-coursetitle sc-programtable-column-2\">Probability</td><td class=\"sc-credits sc-programtable-column-3\"><p class=\"credits\">4</p></td>\n",
              "</tr><tr>\n",
              "<td class=\"sc-totalcreditslabel\" colspan=\"2\">Total Credit Hours:</td><td class=\"sc-totalcredits\">48</td>\n",
              "</tr>\n",
              "</table>"
            ]
          },
          "metadata": {},
          "execution_count": 4
        }
      ]
    },
    {
      "cell_type": "code",
      "source": [
        "# initialize lists\n",
        "course_titles = []\n",
        "course_numbers = []\n",
        "credits = []\n",
        "\n",
        "for td in soup.find_all('td', class_=True):\n",
        "    classes = td.get('class', [])\n",
        "    if 'sc-programtable-column-2' in classes:  # course titles\n",
        "        course_titles.append(td.get_text(strip=True))\n",
        "    elif 'sc-programtable-column-1' in classes:  # course numbers\n",
        "        course_numbers.append(td.get_text(strip=True))\n",
        "\n",
        "# remove duplicates and maintain order\n",
        "single_course_titles = list(dict.fromkeys(course_titles))\n",
        "single_course_numbers = list(dict.fromkeys(course_numbers))\n",
        "\n",
        "print(single_course_titles)\n",
        "print(single_course_numbers)\n",
        "# every course is 4 credits\n",
        "credits = ['4'] * len(single_course_titles)\n",
        "print(credits)\n"
      ],
      "metadata": {
        "colab": {
          "base_uri": "https://localhost:8080/"
        },
        "id": "iN8JkpiQ_Ihu",
        "outputId": "cf57f6db-5768-475c-f11b-7f9a8e61472d"
      },
      "execution_count": 5,
      "outputs": [
        {
          "output_type": "stream",
          "name": "stdout",
          "text": [
            "['The Science of Computing I', 'The Science of Computing II', 'Data Structures and Algorithm Analysis', 'Introduction to Data Science', 'Applied Data Science', 'Data Science Capstone', 'Calculus I', 'Calculus II', 'Calculus III', 'Computational Linear Algebra', 'Applied Statistics', 'Probability', 'Database Management Systems', 'Artificial Intelligence and Machine Learning', 'Applied Regression Analysis', 'Mathematical Statistics']\n",
            "['CSC 101', 'CSC 102', 'CSC 201', 'DSC 101', 'DSC 201', 'DSC 401', 'MAT 260', 'MAT 261', 'MAT 262', 'MAT 271', 'MAT 272', 'MAT 310', 'CSC 340', 'CSC 410', 'MAT 402', 'MAT 425']\n",
            "['4', '4', '4', '4', '4', '4', '4', '4', '4', '4', '4', '4', '4', '4', '4', '4']\n"
          ]
        }
      ]
    },
    {
      "cell_type": "code",
      "source": [
        "# default setting all courses to requirement\n",
        "requirements = []\n",
        "requirements= ['Yes'] * len(single_course_titles)\n",
        "print(requirements)"
      ],
      "metadata": {
        "colab": {
          "base_uri": "https://localhost:8080/"
        },
        "id": "U6YEo6wtINhz",
        "outputId": "d62eb9f0-042f-41d0-f89a-ad1ab09956ca"
      },
      "execution_count": 6,
      "outputs": [
        {
          "output_type": "stream",
          "name": "stdout",
          "text": [
            "['Yes', 'Yes', 'Yes', 'Yes', 'Yes', 'Yes', 'Yes', 'Yes', 'Yes', 'Yes', 'Yes', 'Yes', 'Yes', 'Yes', 'Yes', 'Yes']\n"
          ]
        }
      ]
    },
    {
      "cell_type": "code",
      "source": [
        "# creating dataframe\n",
        "# importing pandas as pd\n",
        "import pandas as pd\n",
        "\n",
        "# dictionary of lists\n",
        "dict = {'Course_number': single_course_numbers, 'Course_title': single_course_titles, 'Credit_hours': credits}\n",
        "\n",
        "df = pd.DataFrame(dict)\n",
        "\n",
        "print(df)"
      ],
      "metadata": {
        "colab": {
          "base_uri": "https://localhost:8080/"
        },
        "id": "dLqZ1yJOGSDM",
        "outputId": "ca664b4b-9df8-4067-988b-06be348a7b27"
      },
      "execution_count": 7,
      "outputs": [
        {
          "output_type": "stream",
          "name": "stdout",
          "text": [
            "   Course_number                                  Course_title Credit_hours\n",
            "0        CSC 101                    The Science of Computing I            4\n",
            "1        CSC 102                   The Science of Computing II            4\n",
            "2        CSC 201        Data Structures and Algorithm Analysis            4\n",
            "3        DSC 101                  Introduction to Data Science            4\n",
            "4        DSC 201                          Applied Data Science            4\n",
            "5        DSC 401                         Data Science Capstone            4\n",
            "6        MAT 260                                    Calculus I            4\n",
            "7        MAT 261                                   Calculus II            4\n",
            "8        MAT 262                                  Calculus III            4\n",
            "9        MAT 271                  Computational Linear Algebra            4\n",
            "10       MAT 272                            Applied Statistics            4\n",
            "11       MAT 310                                   Probability            4\n",
            "12       CSC 340                   Database Management Systems            4\n",
            "13       CSC 410  Artificial Intelligence and Machine Learning            4\n",
            "14       MAT 402                   Applied Regression Analysis            4\n",
            "15       MAT 425                       Mathematical Statistics            4\n"
          ]
        }
      ]
    },
    {
      "cell_type": "code",
      "source": [
        "import numpy as np\n",
        "courses = ['CSC 340', 'CSC 410', 'MAT 402', 'MAT 425']  # list of elective courses\n",
        "df['Elective'] = np.where(df['Course_number'].isin(courses), 'Yes', 'No')\n",
        "print(df)"
      ],
      "metadata": {
        "colab": {
          "base_uri": "https://localhost:8080/"
        },
        "id": "lGH7IuMsJF0S",
        "outputId": "6e0ab0ef-bf0f-4506-9356-efa9a6353621"
      },
      "execution_count": 8,
      "outputs": [
        {
          "output_type": "stream",
          "name": "stdout",
          "text": [
            "   Course_number                                  Course_title Credit_hours  \\\n",
            "0        CSC 101                    The Science of Computing I            4   \n",
            "1        CSC 102                   The Science of Computing II            4   \n",
            "2        CSC 201        Data Structures and Algorithm Analysis            4   \n",
            "3        DSC 101                  Introduction to Data Science            4   \n",
            "4        DSC 201                          Applied Data Science            4   \n",
            "5        DSC 401                         Data Science Capstone            4   \n",
            "6        MAT 260                                    Calculus I            4   \n",
            "7        MAT 261                                   Calculus II            4   \n",
            "8        MAT 262                                  Calculus III            4   \n",
            "9        MAT 271                  Computational Linear Algebra            4   \n",
            "10       MAT 272                            Applied Statistics            4   \n",
            "11       MAT 310                                   Probability            4   \n",
            "12       CSC 340                   Database Management Systems            4   \n",
            "13       CSC 410  Artificial Intelligence and Machine Learning            4   \n",
            "14       MAT 402                   Applied Regression Analysis            4   \n",
            "15       MAT 425                       Mathematical Statistics            4   \n",
            "\n",
            "   Elective  \n",
            "0        No  \n",
            "1        No  \n",
            "2        No  \n",
            "3        No  \n",
            "4        No  \n",
            "5        No  \n",
            "6        No  \n",
            "7        No  \n",
            "8        No  \n",
            "9        No  \n",
            "10       No  \n",
            "11       No  \n",
            "12      Yes  \n",
            "13      Yes  \n",
            "14      Yes  \n",
            "15      Yes  \n"
          ]
        }
      ]
    },
    {
      "cell_type": "code",
      "source": [
        "# save as csv\n",
        "df.to_csv('DScoursecatalog.csv', index=False)\n",
        "\n",
        "from google.colab import files\n",
        "# download file to computer\n",
        "files.download('DScoursecatalog.csv')\n"
      ],
      "metadata": {
        "colab": {
          "base_uri": "https://localhost:8080/",
          "height": 17
        },
        "id": "rmLrQLwGKea9",
        "outputId": "6cfe9195-86f7-4f3d-c4d4-48798995dce4"
      },
      "execution_count": 9,
      "outputs": [
        {
          "output_type": "display_data",
          "data": {
            "text/plain": [
              "<IPython.core.display.Javascript object>"
            ],
            "application/javascript": [
              "\n",
              "    async function download(id, filename, size) {\n",
              "      if (!google.colab.kernel.accessAllowed) {\n",
              "        return;\n",
              "      }\n",
              "      const div = document.createElement('div');\n",
              "      const label = document.createElement('label');\n",
              "      label.textContent = `Downloading \"${filename}\": `;\n",
              "      div.appendChild(label);\n",
              "      const progress = document.createElement('progress');\n",
              "      progress.max = size;\n",
              "      div.appendChild(progress);\n",
              "      document.body.appendChild(div);\n",
              "\n",
              "      const buffers = [];\n",
              "      let downloaded = 0;\n",
              "\n",
              "      const channel = await google.colab.kernel.comms.open(id);\n",
              "      // Send a message to notify the kernel that we're ready.\n",
              "      channel.send({})\n",
              "\n",
              "      for await (const message of channel.messages) {\n",
              "        // Send a message to notify the kernel that we're ready.\n",
              "        channel.send({})\n",
              "        if (message.buffers) {\n",
              "          for (const buffer of message.buffers) {\n",
              "            buffers.push(buffer);\n",
              "            downloaded += buffer.byteLength;\n",
              "            progress.value = downloaded;\n",
              "          }\n",
              "        }\n",
              "      }\n",
              "      const blob = new Blob(buffers, {type: 'application/binary'});\n",
              "      const a = document.createElement('a');\n",
              "      a.href = window.URL.createObjectURL(blob);\n",
              "      a.download = filename;\n",
              "      div.appendChild(a);\n",
              "      a.click();\n",
              "      div.remove();\n",
              "    }\n",
              "  "
            ]
          },
          "metadata": {}
        },
        {
          "output_type": "display_data",
          "data": {
            "text/plain": [
              "<IPython.core.display.Javascript object>"
            ],
            "application/javascript": [
              "download(\"download_30b2d494-4855-4c7a-b877-a55943bc82f2\", \"DScoursecatalog.csv\", 648)"
            ]
          },
          "metadata": {}
        }
      ]
    },
    {
      "cell_type": "code",
      "source": [],
      "metadata": {
        "id": "zLQr27HOxMwE"
      },
      "execution_count": null,
      "outputs": []
    }
  ]
}